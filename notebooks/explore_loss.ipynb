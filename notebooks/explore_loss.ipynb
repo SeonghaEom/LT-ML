{
 "cells": [
  {
   "cell_type": "code",
   "execution_count": 23,
   "metadata": {},
   "outputs": [],
   "source": [
    "import torch\n",
    "from torch.autograd import Variable\n",
    "import torch.nn as nn"
   ]
  },
  {
   "cell_type": "code",
   "execution_count": 24,
   "metadata": {},
   "outputs": [
    {
     "name": "stdout",
     "output_type": "stream",
     "text": [
      "tensor([[-0.6684,  0.9501,  0.7455],\n",
      "        [-1.5511, -0.5593, -0.4616],\n",
      "        [-0.2792, -0.6318,  0.8696],\n",
      "        [ 0.5621, -0.3480,  0.4634],\n",
      "        [-1.0622,  0.0460,  1.4162],\n",
      "        [-0.5642,  1.7867, -0.3784],\n",
      "        [-0.5454, -0.4402,  0.4469],\n",
      "        [-0.8599, -0.9066, -1.0315],\n",
      "        [ 1.5087, -0.2591, -1.4231],\n",
      "        [ 1.0720, -0.7051, -0.9798]])\n",
      "tensor([[1., 0., 1.],\n",
      "        [1., 0., 0.],\n",
      "        [0., 1., 0.],\n",
      "        [0., 1., 0.],\n",
      "        [1., 0., 1.],\n",
      "        [1., 0., 0.],\n",
      "        [1., 1., 1.],\n",
      "        [0., 0., 0.],\n",
      "        [0., 1., 1.],\n",
      "        [1., 1., 1.]])\n"
     ]
    }
   ],
   "source": [
    "x = Variable(torch.randn(10, 3))\n",
    "print(x)\n",
    "y = Variable(torch.FloatTensor(10, 3).random_(2))\n",
    "print(y)"
   ]
  },
  {
   "cell_type": "code",
   "execution_count": 30,
   "metadata": {},
   "outputs": [],
   "source": [
    "# double the loss for class 1\n",
    "\n",
    "class_weight = torch.FloatTensor([0.25, 0.5, 0.25])\n",
    "# class_weight = torch.FloatTensor([1.0, 2.0, 1.0])\n",
    "\n",
    "# double the loss for last sample\n",
    "element_weight = torch.FloatTensor([1.0]*9 + [2.0]).view(-1, 1)\n",
    "element_weight = element_weight.repeat(1, 3)"
   ]
  },
  {
   "cell_type": "code",
   "execution_count": 31,
   "metadata": {},
   "outputs": [],
   "source": [
    "bce_criterion = nn.BCEWithLogitsLoss(weight=None, reduce=False)\n",
    "multi_criterion = nn.MultiLabelSoftMarginLoss(weight=None, reduce=False)"
   ]
  },
  {
   "cell_type": "code",
   "execution_count": 32,
   "metadata": {},
   "outputs": [],
   "source": [
    "bce_criterion_class = nn.BCEWithLogitsLoss(weight=class_weight, reduce=False)\n",
    "multi_criterion_class = nn.MultiLabelSoftMarginLoss(weight=class_weight, reduce=False)\n",
    "\n",
    "\n",
    "bce_criterion_element = nn.BCEWithLogitsLoss(weight=element_weight, reduce=False)\n",
    "multi_criterion_element = nn.MultiLabelSoftMarginLoss(weight=element_weight, reduce=False)"
   ]
  },
  {
   "cell_type": "code",
   "execution_count": 33,
   "metadata": {},
   "outputs": [],
   "source": [
    "bce_loss = bce_criterion(x, y)\n",
    "multi_loss = multi_criterion(x, y)\n",
    "\n",
    "bce_loss_class = bce_criterion_class(x, y)\n",
    "multi_loss_class = multi_criterion_class(x, y)\n",
    "\n",
    "bce_loss_element = bce_criterion_element(x, y)\n",
    "multi_loss_element = multi_criterion_element(x, y)"
   ]
  },
  {
   "cell_type": "code",
   "execution_count": 34,
   "metadata": {},
   "outputs": [
    {
     "name": "stdout",
     "output_type": "stream",
     "text": [
      "tensor([0.9158, 0.8947, 0.9470, 0.9490, 0.7642, 1.1593, 0.8114, 0.3324, 1.3928,\n",
      "        0.8999])\n",
      "tensor([0.9158, 0.8947, 0.9470, 0.9490, 0.7642, 1.1593, 0.8114, 0.3324, 1.3928,\n",
      "        0.8999]) tensor([0.9158, 0.8947, 0.9470, 0.9490, 0.7642, 1.1593, 0.8114, 0.3324, 1.3928,\n",
      "        0.8999])\n",
      "tensor([0.0000e+00, 2.9802e-08, 0.0000e+00, 0.0000e+00, 2.9802e-08, 0.0000e+00,\n",
      "        0.0000e+00, 0.0000e+00, 0.0000e+00, 0.0000e+00])\n",
      "tensor([0.0000e+00, 0.0000e+00, 5.9605e-08, 1.1921e-07, 1.1921e-07, 0.0000e+00,\n",
      "        0.0000e+00, 0.0000e+00, 0.0000e+00, 0.0000e+00])\n"
     ]
    }
   ],
   "source": [
    "# print(torch.mean(bce_loss,dim=1))\n",
    "\n",
    "print(multi_loss)\n",
    "\n",
    "bce_loss = torch.mean(bce_loss,dim=1)\n",
    "\n",
    "bce_loss_class = torch.mean(bce_loss_class,dim=1)\n",
    "\n",
    "bce_loss_element = torch.mean(bce_loss_element,dim=1)\n",
    "\n",
    "print(bce_loss, multi_loss)\n",
    "\n",
    "print(bce_loss_class - multi_loss_class)\n",
    "\n",
    "print(bce_loss_element - multi_loss_element)"
   ]
  },
  {
   "cell_type": "code",
   "execution_count": 35,
   "metadata": {},
   "outputs": [
    {
     "data": {
      "text/plain": [
       "0.9998999999999999"
      ]
     },
     "execution_count": 35,
     "metadata": {},
     "output_type": "execute_result"
    }
   ],
   "source": [
    "li = [0.0326, 0.0333, 0.0452, 0.0248, 0.0334, 0.0255, 0.0976, 0.0461, 0.0609,\n",
    "        0.0193, 0.0274, 0.0576, 0.0393, 0.0335, 0.2748, 0.0335, 0.0131, 0.0313,\n",
    "        0.0357, 0.0350]\n",
    "sum(li)"
   ]
  },
  {
   "cell_type": "code",
   "execution_count": null,
   "metadata": {},
   "outputs": [],
   "source": []
  }
 ],
 "metadata": {
  "interpreter": {
   "hash": "765b26ec2fc4c2066cf7ce8a0dde5a8255de29dd3973b3be957926608459ba30"
  },
  "kernelspec": {
   "display_name": "Python 3.9.13 ('MGSSL')",
   "language": "python",
   "name": "python3"
  },
  "language_info": {
   "codemirror_mode": {
    "name": "ipython",
    "version": 3
   },
   "file_extension": ".py",
   "mimetype": "text/x-python",
   "name": "python",
   "nbconvert_exporter": "python",
   "pygments_lexer": "ipython3",
   "version": "3.9.13"
  },
  "orig_nbformat": 4
 },
 "nbformat": 4,
 "nbformat_minor": 2
}
